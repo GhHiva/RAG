{
 "cells": [
  {
   "cell_type": "code",
   "execution_count": 9,
   "id": "1e728cab-a5b9-4271-9ced-985c036d5eec",
   "metadata": {},
   "outputs": [
    {
     "name": "stderr",
     "output_type": "stream",
     "text": [
      "[nltk_data] Downloading package wordnet to\n",
      "[nltk_data]     /Users/hivagheisari/nltk_data...\n",
      "[nltk_data]   Package wordnet is already up-to-date!\n"
     ]
    }
   ],
   "source": [
    "import spacy \n",
    "import nltk\n",
    "nltk.download('wordnet')\n",
    "from nltk.corpus import wordnet as wn\n",
    "from collections import Counter\n",
    "import numpy as np\n",
    "\n",
    "\n",
    "# Load spaCy model\n",
    "nlp= spacy.load('en_core_web_sm')"
   ]
  },
  {
   "cell_type": "markdown",
   "id": "514bda4b-92d6-42b1-8c6d-b7dc4b7cfc86",
   "metadata": {},
   "source": [
    "## Synonyms:"
   ]
  },
  {
   "cell_type": "code",
   "execution_count": 10,
   "id": "6b0fc01d-de97-4164-8ca1-3780948b7464",
   "metadata": {},
   "outputs": [],
   "source": [
    "def get_synonyms(word):\n",
    "    synonyms=set()\n",
    "    for syn in wn.synsets(word):\n",
    "        for lemma in syn.lemmas():\n",
    "            synonyms.add(lemma.name())\n",
    "    return synonyms"
   ]
  },
  {
   "cell_type": "code",
   "execution_count": 11,
   "id": "141c7662-c17e-4c6b-b092-cf28d69aed8e",
   "metadata": {},
   "outputs": [
    {
     "data": {
      "text/plain": [
       "{'auto',\n",
       " 'automobile',\n",
       " 'cable_car',\n",
       " 'car',\n",
       " 'elevator_car',\n",
       " 'gondola',\n",
       " 'machine',\n",
       " 'motorcar',\n",
       " 'railcar',\n",
       " 'railroad_car',\n",
       " 'railway_car'}"
      ]
     },
     "execution_count": 11,
     "metadata": {},
     "output_type": "execute_result"
    }
   ],
   "source": [
    "get_synonyms('Car')"
   ]
  },
  {
   "cell_type": "code",
   "execution_count": 12,
   "id": "f7b05379-3314-4da2-a23c-8432318a5b6b",
   "metadata": {},
   "outputs": [
    {
     "name": "stdout",
     "output_type": "stream",
     "text": [
      " wn.synsets('Car') is [Synset('car.n.01'), Synset('car.n.02'), Synset('car.n.03'), Synset('car.n.04'), Synset('cable_car.n.01')]\n"
     ]
    }
   ],
   "source": [
    "print(f\" wn.synsets('Car') is {wn.synsets('Car')}\")"
   ]
  },
  {
   "cell_type": "code",
   "execution_count": 13,
   "id": "4659b8c9-3d56-4a5f-8f36-15829c8170ec",
   "metadata": {},
   "outputs": [
    {
     "name": "stdout",
     "output_type": "stream",
     "text": [
      "[Lemma('car.n.01.car'), Lemma('car.n.01.auto'), Lemma('car.n.01.automobile'), Lemma('car.n.01.machine'), Lemma('car.n.01.motorcar')]\n",
      "[Lemma('car.n.02.car'), Lemma('car.n.02.railcar'), Lemma('car.n.02.railway_car'), Lemma('car.n.02.railroad_car')]\n",
      "[Lemma('car.n.03.car'), Lemma('car.n.03.gondola')]\n",
      "[Lemma('car.n.04.car'), Lemma('car.n.04.elevator_car')]\n",
      "[Lemma('cable_car.n.01.cable_car'), Lemma('cable_car.n.01.car')]\n"
     ]
    }
   ],
   "source": [
    "for syn in wn.synsets('Car'):\n",
    "    print(syn.lemmas())"
   ]
  },
  {
   "cell_type": "code",
   "execution_count": 14,
   "id": "29292b6b-050d-4d66-9ec5-c4e2c016f911",
   "metadata": {},
   "outputs": [
    {
     "name": "stdout",
     "output_type": "stream",
     "text": [
      "car\n",
      "auto\n",
      "automobile\n",
      "machine\n",
      "motorcar\n",
      "car\n",
      "railcar\n",
      "railway_car\n",
      "railroad_car\n",
      "car\n",
      "gondola\n",
      "car\n",
      "elevator_car\n",
      "cable_car\n",
      "car\n"
     ]
    }
   ],
   "source": [
    "for syn in wn.synsets('Car'):\n",
    "    #print(syn.lemmas())\n",
    "    for lemma in syn.lemmas():\n",
    "        print(lemma.name())"
   ]
  },
  {
   "cell_type": "code",
   "execution_count": 15,
   "id": "f53a628d-027d-46bd-8775-cf73047f7302",
   "metadata": {},
   "outputs": [],
   "source": [
    "def preprocess_text(text):\n",
    "    doc = nlp(text.lower())\n",
    "    lemmatized_words = []\n",
    "    for token in doc:\n",
    "        if token.is_stop or token.is_punct:\n",
    "            continue\n",
    "        lemmatized_words.append(token.lemma_)\n",
    "    return lemmatized_words"
   ]
  },
  {
   "cell_type": "code",
   "execution_count": 16,
   "id": "2f8c2ce5-7146-42dd-95d4-2d6698e12a75",
   "metadata": {},
   "outputs": [],
   "source": [
    "text= '\"Text\" can refer to the written words on a page, a written message, or even a broader concept of any object that can be \"read\" and interpreted. It can also refer to the act of sending a written message on a mobile phone. '"
   ]
  },
  {
   "cell_type": "code",
   "execution_count": 17,
   "id": "e712b773-774b-47d5-a00b-e68fcde47bef",
   "metadata": {},
   "outputs": [
    {
     "data": {
      "text/plain": [
       "'\"text\" can refer to the written words on a page, a written message, or even a broader concept of any object that can be \"read\" and interpreted. it can also refer to the act of sending a written message on a mobile phone. '"
      ]
     },
     "execution_count": 17,
     "metadata": {},
     "output_type": "execute_result"
    }
   ],
   "source": [
    "text_l=text.lower()\n",
    "text_l"
   ]
  },
  {
   "cell_type": "code",
   "execution_count": 18,
   "id": "9dbccbfc-43bf-48ef-ae0f-f6f657531805",
   "metadata": {},
   "outputs": [],
   "source": [
    "doc= nlp(text_l)"
   ]
  },
  {
   "cell_type": "code",
   "execution_count": 28,
   "id": "edac5cfb-5c5f-4f1a-b71e-96fa5fe50359",
   "metadata": {},
   "outputs": [],
   "source": [
    "for token in doc:\n",
    "    #print((token.lemma_))\n",
    "    pass"
   ]
  },
  {
   "cell_type": "code",
   "execution_count": 24,
   "id": "6b81dede-8e51-4eee-a242-c698146969a3",
   "metadata": {},
   "outputs": [
    {
     "data": {
      "text/plain": [
       "['text',\n",
       " 'refer',\n",
       " 'write',\n",
       " 'word',\n",
       " 'page',\n",
       " 'write',\n",
       " 'message',\n",
       " 'broad',\n",
       " 'concept',\n",
       " 'object',\n",
       " 'read',\n",
       " 'interpret',\n",
       " 'refer',\n",
       " 'act',\n",
       " 'send',\n",
       " 'write',\n",
       " 'message',\n",
       " 'mobile',\n",
       " 'phone']"
      ]
     },
     "execution_count": 24,
     "metadata": {},
     "output_type": "execute_result"
    }
   ],
   "source": [
    "preprocess_text(text_l)"
   ]
  },
  {
   "cell_type": "code",
   "execution_count": 35,
   "id": "eae2cbaf-e5b0-49fa-a3f4-584bfe828c02",
   "metadata": {},
   "outputs": [
    {
     "data": {
      "text/plain": [
       "list"
      ]
     },
     "execution_count": 35,
     "metadata": {},
     "output_type": "execute_result"
    }
   ],
   "source": [
    "type(preprocess_text(text_l))"
   ]
  },
  {
   "cell_type": "code",
   "execution_count": 38,
   "id": "cd0e5754-af63-48b5-aa07-ffd3b319fd7a",
   "metadata": {},
   "outputs": [],
   "source": [
    "def expand_with_syn(words):\n",
    "    expand_w= words.copy()\n",
    "    for w in words:\n",
    "        expand_w.extend(get_synonyms(w))\n",
    "    return(expand_w)"
   ]
  },
  {
   "cell_type": "code",
   "execution_count": 39,
   "id": "da3b38cb-59e9-41a0-9c72-7de8787d2b7e",
   "metadata": {},
   "outputs": [
    {
     "data": {
      "text/plain": [
       "['text',\n",
       " 'refer',\n",
       " 'write',\n",
       " 'word',\n",
       " 'page',\n",
       " 'write',\n",
       " 'message',\n",
       " 'broad',\n",
       " 'concept',\n",
       " 'object',\n",
       " 'read',\n",
       " 'interpret',\n",
       " 'refer',\n",
       " 'act',\n",
       " 'send',\n",
       " 'write',\n",
       " 'message',\n",
       " 'mobile',\n",
       " 'phone',\n",
       " 'schoolbook',\n",
       " 'text_edition',\n",
       " 'textbook',\n",
       " 'text',\n",
       " 'school_text',\n",
       " 'textual_matter',\n",
       " 'pertain',\n",
       " 'touch',\n",
       " 'touch_on',\n",
       " 'concern',\n",
       " 'bring_up',\n",
       " 'name',\n",
       " 'consult',\n",
       " 'look_up',\n",
       " 'refer',\n",
       " 'advert',\n",
       " 'cite',\n",
       " 'denote',\n",
       " 'relate',\n",
       " 'bear_on',\n",
       " 'have-to_doe_with',\n",
       " 'mention',\n",
       " 'come_to',\n",
       " 'spell',\n",
       " 'drop_a_line',\n",
       " 'save',\n",
       " 'write',\n",
       " 'indite',\n",
       " 'publish',\n",
       " 'compose',\n",
       " 'pen',\n",
       " 'Bible',\n",
       " 'give-and-take',\n",
       " 'Holy_Writ',\n",
       " 'Word',\n",
       " 'give_voice',\n",
       " 'watchword',\n",
       " 'articulate',\n",
       " 'word',\n",
       " 'intelligence',\n",
       " 'Son',\n",
       " 'phrase',\n",
       " 'countersign',\n",
       " 'Good_Book',\n",
       " 'news',\n",
       " 'tidings',\n",
       " 'Logos',\n",
       " 'discussion',\n",
       " 'word_of_honor',\n",
       " 'password',\n",
       " 'parole',\n",
       " 'formulate',\n",
       " 'Christian_Bible',\n",
       " 'Book',\n",
       " 'Word_of_God',\n",
       " 'Scripture',\n",
       " 'Holy_Scripture',\n",
       " 'pageboy',\n",
       " 'Sir_Frederick_Handley_Page',\n",
       " 'paginate',\n",
       " 'Thomas_Nelson_Page',\n",
       " 'Page',\n",
       " 'page',\n",
       " 'foliate',\n",
       " 'varlet',\n",
       " 'spell',\n",
       " 'drop_a_line',\n",
       " 'save',\n",
       " 'write',\n",
       " 'indite',\n",
       " 'publish',\n",
       " 'compose',\n",
       " 'pen',\n",
       " 'message',\n",
       " 'subject_matter',\n",
       " 'content',\n",
       " 'substance',\n",
       " 'all-encompassing',\n",
       " 'wide',\n",
       " 'unsubtle',\n",
       " 'unspecific',\n",
       " 'all-inclusive',\n",
       " 'blanket',\n",
       " 'full',\n",
       " 'tolerant',\n",
       " 'extensive',\n",
       " 'spacious',\n",
       " 'all-embracing',\n",
       " 'encompassing',\n",
       " 'broad',\n",
       " 'large-minded',\n",
       " 'liberal',\n",
       " 'panoptic',\n",
       " 'across-the-board',\n",
       " 'conception',\n",
       " 'construct',\n",
       " 'concept',\n",
       " 'object',\n",
       " 'target',\n",
       " 'aim',\n",
       " 'physical_object',\n",
       " 'objective',\n",
       " 'show',\n",
       " 'take',\n",
       " 'register',\n",
       " 'interpret',\n",
       " 'scan',\n",
       " 'say',\n",
       " 'translate',\n",
       " 'understand',\n",
       " 'learn',\n",
       " 'read',\n",
       " 'study',\n",
       " 'record',\n",
       " 'construe',\n",
       " 'represent',\n",
       " 'render',\n",
       " 'interpret',\n",
       " 'translate',\n",
       " 'understand',\n",
       " 'see',\n",
       " 'rede',\n",
       " 'read',\n",
       " 'pertain',\n",
       " 'touch',\n",
       " 'touch_on',\n",
       " 'concern',\n",
       " 'bring_up',\n",
       " 'name',\n",
       " 'consult',\n",
       " 'look_up',\n",
       " 'refer',\n",
       " 'advert',\n",
       " 'cite',\n",
       " 'denote',\n",
       " 'relate',\n",
       " 'bear_on',\n",
       " 'have-to_doe_with',\n",
       " 'mention',\n",
       " 'come_to',\n",
       " 'move',\n",
       " 'act_as',\n",
       " 'play',\n",
       " 'human_action',\n",
       " 'human_activity',\n",
       " 'represent',\n",
       " 'do',\n",
       " 'bit',\n",
       " 'pretend',\n",
       " 'act',\n",
       " 'routine',\n",
       " 'turn',\n",
       " 'number',\n",
       " 'roleplay',\n",
       " 'dissemble',\n",
       " 'behave',\n",
       " 'work',\n",
       " 'playact',\n",
       " 'deed',\n",
       " 'enactment',\n",
       " 'send',\n",
       " 'place',\n",
       " 'send_off',\n",
       " 'station',\n",
       " 'broadcast',\n",
       " 'ship',\n",
       " 'get_off',\n",
       " 'beam',\n",
       " 'charge',\n",
       " 'transmit',\n",
       " 'institutionalise',\n",
       " 'direct',\n",
       " 'send_out',\n",
       " 'mail',\n",
       " 'institutionalize',\n",
       " 'commit',\n",
       " 'air',\n",
       " 'post',\n",
       " 'transport',\n",
       " 'spell',\n",
       " 'drop_a_line',\n",
       " 'save',\n",
       " 'write',\n",
       " 'indite',\n",
       " 'publish',\n",
       " 'compose',\n",
       " 'pen',\n",
       " 'message',\n",
       " 'subject_matter',\n",
       " 'content',\n",
       " 'substance',\n",
       " 'wandering',\n",
       " 'fluid',\n",
       " 'mobile',\n",
       " 'roving',\n",
       " 'peregrine',\n",
       " 'Mobile_River',\n",
       " 'nomadic',\n",
       " 'Mobile',\n",
       " 'telephone_set',\n",
       " 'speech_sound',\n",
       " 'earphone',\n",
       " 'earpiece',\n",
       " 'headphone',\n",
       " 'call_up',\n",
       " 'sound',\n",
       " 'telephone',\n",
       " 'call',\n",
       " 'ring',\n",
       " 'phone']"
      ]
     },
     "execution_count": 39,
     "metadata": {},
     "output_type": "execute_result"
    }
   ],
   "source": [
    "expand_with_syn(preprocess_text(text_l))"
   ]
  },
  {
   "cell_type": "code",
   "execution_count": null,
   "id": "b5243c9e-37df-451c-ad35-f3cb52cd2c50",
   "metadata": {},
   "outputs": [],
   "source": []
  },
  {
   "cell_type": "code",
   "execution_count": null,
   "id": "f95cef0c-03e7-4c42-91d1-71c0fd8b5b2a",
   "metadata": {},
   "outputs": [],
   "source": []
  },
  {
   "cell_type": "code",
   "execution_count": null,
   "id": "85459c08-c50b-4b9a-82f1-0812fbbce30c",
   "metadata": {},
   "outputs": [],
   "source": []
  },
  {
   "cell_type": "code",
   "execution_count": null,
   "id": "2b3724cc-836f-49f8-bceb-6060b5188125",
   "metadata": {},
   "outputs": [],
   "source": []
  },
  {
   "cell_type": "code",
   "execution_count": null,
   "id": "ce667ffe-5b05-41e6-8d6a-0320d8058aab",
   "metadata": {},
   "outputs": [],
   "source": []
  },
  {
   "cell_type": "code",
   "execution_count": null,
   "id": "794c80b0-c038-41c6-9e59-f3a5caef12d4",
   "metadata": {},
   "outputs": [],
   "source": []
  },
  {
   "cell_type": "code",
   "execution_count": null,
   "id": "2545855c-3a7c-4574-94f0-2f2a9270356f",
   "metadata": {},
   "outputs": [],
   "source": []
  },
  {
   "cell_type": "code",
   "execution_count": null,
   "id": "beff3e39-e39c-4733-a56e-6e612d563fa7",
   "metadata": {},
   "outputs": [],
   "source": []
  },
  {
   "cell_type": "code",
   "execution_count": null,
   "id": "cdcbf24b-e789-4bb9-9ffa-cf9223dc8863",
   "metadata": {},
   "outputs": [],
   "source": []
  },
  {
   "cell_type": "code",
   "execution_count": null,
   "id": "f8b3f287-ed2c-4ec5-9a22-184ac2da727f",
   "metadata": {},
   "outputs": [],
   "source": []
  }
 ],
 "metadata": {
  "kernelspec": {
   "display_name": "Python 3 (ipykernel)",
   "language": "python",
   "name": "python3"
  },
  "language_info": {
   "codemirror_mode": {
    "name": "ipython",
    "version": 3
   },
   "file_extension": ".py",
   "mimetype": "text/x-python",
   "name": "python",
   "nbconvert_exporter": "python",
   "pygments_lexer": "ipython3",
   "version": "3.12.5"
  }
 },
 "nbformat": 4,
 "nbformat_minor": 5
}
