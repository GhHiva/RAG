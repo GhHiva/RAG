{
 "cells": [
  {
   "cell_type": "code",
   "execution_count": 9,
   "id": "1e728cab-a5b9-4271-9ced-985c036d5eec",
   "metadata": {},
   "outputs": [
    {
     "name": "stderr",
     "output_type": "stream",
     "text": [
      "[nltk_data] Downloading package wordnet to\n",
      "[nltk_data]     /Users/hivagheisari/nltk_data...\n",
      "[nltk_data]   Package wordnet is already up-to-date!\n"
     ]
    }
   ],
   "source": [
    "import spacy \n",
    "import nltk\n",
    "nltk.download('wordnet')\n",
    "from nltk.corpus import wordnet as wn\n",
    "from collections import Counter\n",
    "import numpy as np\n",
    "\n",
    "\n",
    "# Load spaCy model\n",
    "nlp= spacy.load('en_core_web_sm')"
   ]
  },
  {
   "cell_type": "markdown",
   "id": "514bda4b-92d6-42b1-8c6d-b7dc4b7cfc86",
   "metadata": {},
   "source": [
    "## Synonyms:"
   ]
  },
  {
   "cell_type": "code",
   "execution_count": 10,
   "id": "6b0fc01d-de97-4164-8ca1-3780948b7464",
   "metadata": {},
   "outputs": [],
   "source": [
    "def get_synonyms(word):\n",
    "    synonyms=set()\n",
    "    for syn in wn.synsets(word):\n",
    "        for lemma in syn.lemmas():\n",
    "            synonyms.add(lemma.name())\n",
    "    return synonyms"
   ]
  },
  {
   "cell_type": "code",
   "execution_count": 11,
   "id": "141c7662-c17e-4c6b-b092-cf28d69aed8e",
   "metadata": {},
   "outputs": [
    {
     "data": {
      "text/plain": [
       "{'auto',\n",
       " 'automobile',\n",
       " 'cable_car',\n",
       " 'car',\n",
       " 'elevator_car',\n",
       " 'gondola',\n",
       " 'machine',\n",
       " 'motorcar',\n",
       " 'railcar',\n",
       " 'railroad_car',\n",
       " 'railway_car'}"
      ]
     },
     "execution_count": 11,
     "metadata": {},
     "output_type": "execute_result"
    }
   ],
   "source": [
    "get_synonyms('Car')"
   ]
  },
  {
   "cell_type": "code",
   "execution_count": 12,
   "id": "f7b05379-3314-4da2-a23c-8432318a5b6b",
   "metadata": {},
   "outputs": [
    {
     "name": "stdout",
     "output_type": "stream",
     "text": [
      " wn.synsets('Car') is [Synset('car.n.01'), Synset('car.n.02'), Synset('car.n.03'), Synset('car.n.04'), Synset('cable_car.n.01')]\n"
     ]
    }
   ],
   "source": [
    "print(f\" wn.synsets('Car') is {wn.synsets('Car')}\")"
   ]
  },
  {
   "cell_type": "code",
   "execution_count": 13,
   "id": "4659b8c9-3d56-4a5f-8f36-15829c8170ec",
   "metadata": {},
   "outputs": [
    {
     "name": "stdout",
     "output_type": "stream",
     "text": [
      "[Lemma('car.n.01.car'), Lemma('car.n.01.auto'), Lemma('car.n.01.automobile'), Lemma('car.n.01.machine'), Lemma('car.n.01.motorcar')]\n",
      "[Lemma('car.n.02.car'), Lemma('car.n.02.railcar'), Lemma('car.n.02.railway_car'), Lemma('car.n.02.railroad_car')]\n",
      "[Lemma('car.n.03.car'), Lemma('car.n.03.gondola')]\n",
      "[Lemma('car.n.04.car'), Lemma('car.n.04.elevator_car')]\n",
      "[Lemma('cable_car.n.01.cable_car'), Lemma('cable_car.n.01.car')]\n"
     ]
    }
   ],
   "source": [
    "for syn in wn.synsets('Car'):\n",
    "    print(syn.lemmas())"
   ]
  },
  {
   "cell_type": "code",
   "execution_count": 14,
   "id": "29292b6b-050d-4d66-9ec5-c4e2c016f911",
   "metadata": {},
   "outputs": [
    {
     "name": "stdout",
     "output_type": "stream",
     "text": [
      "car\n",
      "auto\n",
      "automobile\n",
      "machine\n",
      "motorcar\n",
      "car\n",
      "railcar\n",
      "railway_car\n",
      "railroad_car\n",
      "car\n",
      "gondola\n",
      "car\n",
      "elevator_car\n",
      "cable_car\n",
      "car\n"
     ]
    }
   ],
   "source": [
    "for syn in wn.synsets('Car'):\n",
    "    #print(syn.lemmas())\n",
    "    for lemma in syn.lemmas():\n",
    "        print(lemma.name())"
   ]
  },
  {
   "cell_type": "code",
   "execution_count": 15,
   "id": "f53a628d-027d-46bd-8775-cf73047f7302",
   "metadata": {},
   "outputs": [],
   "source": [
    "def preprocess_text(text):\n",
    "    doc = nlp(text.lower())\n",
    "    lemmatized_words = []\n",
    "    for token in doc:\n",
    "        if token.is_stop or token.is_punct:\n",
    "            continue\n",
    "        lemmatized_words.append(token.lemma_)\n",
    "    return lemmatized_words"
   ]
  },
  {
   "cell_type": "code",
   "execution_count": 16,
   "id": "2f8c2ce5-7146-42dd-95d4-2d6698e12a75",
   "metadata": {},
   "outputs": [],
   "source": [
    "text= '\"Text\" can refer to the written words on a page, a written message, or even a broader concept of any object that can be \"read\" and interpreted. It can also refer to the act of sending a written message on a mobile phone. '"
   ]
  },
  {
   "cell_type": "code",
   "execution_count": 17,
   "id": "e712b773-774b-47d5-a00b-e68fcde47bef",
   "metadata": {},
   "outputs": [
    {
     "data": {
      "text/plain": [
       "'\"text\" can refer to the written words on a page, a written message, or even a broader concept of any object that can be \"read\" and interpreted. it can also refer to the act of sending a written message on a mobile phone. '"
      ]
     },
     "execution_count": 17,
     "metadata": {},
     "output_type": "execute_result"
    }
   ],
   "source": [
    "text_l=text.lower()\n",
    "text_l"
   ]
  },
  {
   "cell_type": "code",
   "execution_count": 18,
   "id": "9dbccbfc-43bf-48ef-ae0f-f6f657531805",
   "metadata": {},
   "outputs": [],
   "source": [
    "doc= nlp(text_l)"
   ]
  },
  {
   "cell_type": "code",
   "execution_count": 21,
   "id": "edac5cfb-5c5f-4f1a-b71e-96fa5fe50359",
   "metadata": {},
   "outputs": [
    {
     "name": "stdout",
     "output_type": "stream",
     "text": [
      "['\"']\n",
      "['t', 'e', 'x', 't']\n",
      "['\"']\n",
      "['c', 'a', 'n']\n",
      "['r', 'e', 'f', 'e', 'r']\n",
      "['t', 'o']\n",
      "['t', 'h', 'e']\n",
      "['w', 'r', 'i', 't', 'e']\n",
      "['w', 'o', 'r', 'd']\n",
      "['o', 'n']\n",
      "['a']\n",
      "['p', 'a', 'g', 'e']\n",
      "[',']\n",
      "['a']\n",
      "['w', 'r', 'i', 't', 'e']\n",
      "['m', 'e', 's', 's', 'a', 'g', 'e']\n",
      "[',']\n",
      "['o', 'r']\n",
      "['e', 'v', 'e', 'n']\n",
      "['a']\n",
      "['b', 'r', 'o', 'a', 'd']\n",
      "['c', 'o', 'n', 'c', 'e', 'p', 't']\n",
      "['o', 'f']\n",
      "['a', 'n', 'y']\n",
      "['o', 'b', 'j', 'e', 'c', 't']\n",
      "['t', 'h', 'a', 't']\n",
      "['c', 'a', 'n']\n",
      "['b', 'e']\n",
      "['\"']\n",
      "['r', 'e', 'a', 'd']\n",
      "['\"']\n",
      "['a', 'n', 'd']\n",
      "['i', 'n', 't', 'e', 'r', 'p', 'r', 'e', 't']\n",
      "['.']\n",
      "['i', 't']\n",
      "['c', 'a', 'n']\n",
      "['a', 'l', 's', 'o']\n",
      "['r', 'e', 'f', 'e', 'r']\n",
      "['t', 'o']\n",
      "['t', 'h', 'e']\n",
      "['a', 'c', 't']\n",
      "['o', 'f']\n",
      "['s', 'e', 'n', 'd']\n",
      "['a']\n",
      "['w', 'r', 'i', 't', 'e']\n",
      "['m', 'e', 's', 's', 'a', 'g', 'e']\n",
      "['o', 'n']\n",
      "['a']\n",
      "['m', 'o', 'b', 'i', 'l', 'e']\n",
      "['p', 'h', 'o', 'n', 'e']\n",
      "['.']\n"
     ]
    }
   ],
   "source": [
    "for token in doc:\n",
    "    print(list(token.lemma_))"
   ]
  },
  {
   "cell_type": "code",
   "execution_count": null,
   "id": "6b81dede-8e51-4eee-a242-c698146969a3",
   "metadata": {},
   "outputs": [],
   "source": []
  },
  {
   "cell_type": "code",
   "execution_count": null,
   "id": "f8b3f287-ed2c-4ec5-9a22-184ac2da727f",
   "metadata": {},
   "outputs": [],
   "source": []
  }
 ],
 "metadata": {
  "kernelspec": {
   "display_name": "Python 3 (ipykernel)",
   "language": "python",
   "name": "python3"
  },
  "language_info": {
   "codemirror_mode": {
    "name": "ipython",
    "version": 3
   },
   "file_extension": ".py",
   "mimetype": "text/x-python",
   "name": "python",
   "nbconvert_exporter": "python",
   "pygments_lexer": "ipython3",
   "version": "3.12.5"
  }
 },
 "nbformat": 4,
 "nbformat_minor": 5
}
