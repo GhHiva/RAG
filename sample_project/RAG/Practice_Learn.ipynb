{
 "cells": [
  {
   "cell_type": "code",
   "execution_count": 9,
   "id": "1e728cab-a5b9-4271-9ced-985c036d5eec",
   "metadata": {},
   "outputs": [
    {
     "name": "stderr",
     "output_type": "stream",
     "text": [
      "[nltk_data] Downloading package wordnet to\n",
      "[nltk_data]     /Users/hivagheisari/nltk_data...\n",
      "[nltk_data]   Package wordnet is already up-to-date!\n"
     ]
    }
   ],
   "source": [
    "import spacy \n",
    "import nltk\n",
    "nltk.download('wordnet')\n",
    "from nltk.corpus import wordnet as wn\n",
    "from collections import Counter\n",
    "import numpy as np\n",
    "\n",
    "\n",
    "# Load spaCy model\n",
    "nlp= spacy.load('en_core_web_sm')"
   ]
  },
  {
   "cell_type": "markdown",
   "id": "514bda4b-92d6-42b1-8c6d-b7dc4b7cfc86",
   "metadata": {},
   "source": [
    "## Synonyms:"
   ]
  },
  {
   "cell_type": "code",
   "execution_count": 10,
   "id": "6b0fc01d-de97-4164-8ca1-3780948b7464",
   "metadata": {},
   "outputs": [],
   "source": [
    "def get_synonyms(word):\n",
    "    synonyms=set()\n",
    "    for syn in wn.synsets(word):\n",
    "        for lemma in syn.lemmas():\n",
    "            synonyms.add(lemma.name())\n",
    "    return synonyms"
   ]
  },
  {
   "cell_type": "code",
   "execution_count": 11,
   "id": "141c7662-c17e-4c6b-b092-cf28d69aed8e",
   "metadata": {},
   "outputs": [
    {
     "data": {
      "text/plain": [
       "{'auto',\n",
       " 'automobile',\n",
       " 'cable_car',\n",
       " 'car',\n",
       " 'elevator_car',\n",
       " 'gondola',\n",
       " 'machine',\n",
       " 'motorcar',\n",
       " 'railcar',\n",
       " 'railroad_car',\n",
       " 'railway_car'}"
      ]
     },
     "execution_count": 11,
     "metadata": {},
     "output_type": "execute_result"
    }
   ],
   "source": [
    "get_synonyms('Car')"
   ]
  },
  {
   "cell_type": "code",
   "execution_count": 12,
   "id": "f7b05379-3314-4da2-a23c-8432318a5b6b",
   "metadata": {},
   "outputs": [
    {
     "name": "stdout",
     "output_type": "stream",
     "text": [
      " wn.synsets('Car') is [Synset('car.n.01'), Synset('car.n.02'), Synset('car.n.03'), Synset('car.n.04'), Synset('cable_car.n.01')]\n"
     ]
    }
   ],
   "source": [
    "print(f\" wn.synsets('Car') is {wn.synsets('Car')}\")"
   ]
  },
  {
   "cell_type": "code",
   "execution_count": 13,
   "id": "4659b8c9-3d56-4a5f-8f36-15829c8170ec",
   "metadata": {},
   "outputs": [
    {
     "name": "stdout",
     "output_type": "stream",
     "text": [
      "[Lemma('car.n.01.car'), Lemma('car.n.01.auto'), Lemma('car.n.01.automobile'), Lemma('car.n.01.machine'), Lemma('car.n.01.motorcar')]\n",
      "[Lemma('car.n.02.car'), Lemma('car.n.02.railcar'), Lemma('car.n.02.railway_car'), Lemma('car.n.02.railroad_car')]\n",
      "[Lemma('car.n.03.car'), Lemma('car.n.03.gondola')]\n",
      "[Lemma('car.n.04.car'), Lemma('car.n.04.elevator_car')]\n",
      "[Lemma('cable_car.n.01.cable_car'), Lemma('cable_car.n.01.car')]\n"
     ]
    }
   ],
   "source": [
    "for syn in wn.synsets('Car'):\n",
    "    print(syn.lemmas())"
   ]
  },
  {
   "cell_type": "code",
   "execution_count": 14,
   "id": "29292b6b-050d-4d66-9ec5-c4e2c016f911",
   "metadata": {},
   "outputs": [
    {
     "name": "stdout",
     "output_type": "stream",
     "text": [
      "car\n",
      "auto\n",
      "automobile\n",
      "machine\n",
      "motorcar\n",
      "car\n",
      "railcar\n",
      "railway_car\n",
      "railroad_car\n",
      "car\n",
      "gondola\n",
      "car\n",
      "elevator_car\n",
      "cable_car\n",
      "car\n"
     ]
    }
   ],
   "source": [
    "for syn in wn.synsets('Car'):\n",
    "    #print(syn.lemmas())\n",
    "    for lemma in syn.lemmas():\n",
    "        print(lemma.name())"
   ]
  },
  {
   "cell_type": "code",
   "execution_count": 15,
   "id": "f53a628d-027d-46bd-8775-cf73047f7302",
   "metadata": {},
   "outputs": [],
   "source": [
    "def preprocess_text(text):\n",
    "    doc = nlp(text.lower())\n",
    "    lemmatized_words = []\n",
    "    for token in doc:\n",
    "        if token.is_stop or token.is_punct:\n",
    "            continue\n",
    "        lemmatized_words.append(token.lemma_)\n",
    "    return lemmatized_words"
   ]
  },
  {
   "cell_type": "code",
   "execution_count": 16,
   "id": "2f8c2ce5-7146-42dd-95d4-2d6698e12a75",
   "metadata": {},
   "outputs": [],
   "source": [
    "text= '\"Text\" can refer to the written words on a page, a written message, or even a broader concept of any object that can be \"read\" and interpreted. It can also refer to the act of sending a written message on a mobile phone. '"
   ]
  },
  {
   "cell_type": "code",
   "execution_count": 17,
   "id": "e712b773-774b-47d5-a00b-e68fcde47bef",
   "metadata": {},
   "outputs": [
    {
     "data": {
      "text/plain": [
       "'\"text\" can refer to the written words on a page, a written message, or even a broader concept of any object that can be \"read\" and interpreted. it can also refer to the act of sending a written message on a mobile phone. '"
      ]
     },
     "execution_count": 17,
     "metadata": {},
     "output_type": "execute_result"
    }
   ],
   "source": [
    "text_l=text.lower()\n",
    "text_l"
   ]
  },
  {
   "cell_type": "code",
   "execution_count": 18,
   "id": "9dbccbfc-43bf-48ef-ae0f-f6f657531805",
   "metadata": {},
   "outputs": [],
   "source": [
    "doc= nlp(text_l)"
   ]
  },
  {
   "cell_type": "code",
   "execution_count": 28,
   "id": "edac5cfb-5c5f-4f1a-b71e-96fa5fe50359",
   "metadata": {},
   "outputs": [],
   "source": [
    "for token in doc:\n",
    "    #print((token.lemma_))\n",
    "    pass"
   ]
  },
  {
   "cell_type": "code",
   "execution_count": 24,
   "id": "6b81dede-8e51-4eee-a242-c698146969a3",
   "metadata": {},
   "outputs": [
    {
     "data": {
      "text/plain": [
       "['text',\n",
       " 'refer',\n",
       " 'write',\n",
       " 'word',\n",
       " 'page',\n",
       " 'write',\n",
       " 'message',\n",
       " 'broad',\n",
       " 'concept',\n",
       " 'object',\n",
       " 'read',\n",
       " 'interpret',\n",
       " 'refer',\n",
       " 'act',\n",
       " 'send',\n",
       " 'write',\n",
       " 'message',\n",
       " 'mobile',\n",
       " 'phone']"
      ]
     },
     "execution_count": 24,
     "metadata": {},
     "output_type": "execute_result"
    }
   ],
   "source": [
    "preprocess_text(text_l)"
   ]
  },
  {
   "cell_type": "code",
   "execution_count": 35,
   "id": "eae2cbaf-e5b0-49fa-a3f4-584bfe828c02",
   "metadata": {},
   "outputs": [
    {
     "data": {
      "text/plain": [
       "list"
      ]
     },
     "execution_count": 35,
     "metadata": {},
     "output_type": "execute_result"
    }
   ],
   "source": [
    "type(preprocess_text(text_l))"
   ]
  },
  {
   "cell_type": "code",
   "execution_count": 38,
   "id": "cd0e5754-af63-48b5-aa07-ffd3b319fd7a",
   "metadata": {},
   "outputs": [],
   "source": [
    "def expand_with_syn(words):\n",
    "    expand_w= words.copy()\n",
    "    for w in words:\n",
    "        expand_w.extend(get_synonyms(w))\n",
    "    return(expand_w)"
   ]
  },
  {
   "cell_type": "code",
   "execution_count": 39,
   "id": "da3b38cb-59e9-41a0-9c72-7de8787d2b7e",
   "metadata": {},
   "outputs": [
    {
     "data": {
      "text/plain": [
       "['text',\n",
       " 'refer',\n",
       " 'write',\n",
       " 'word',\n",
       " 'page',\n",
       " 'write',\n",
       " 'message',\n",
       " 'broad',\n",
       " 'concept',\n",
       " 'object',\n",
       " 'read',\n",
       " 'interpret',\n",
       " 'refer',\n",
       " 'act',\n",
       " 'send',\n",
       " 'write',\n",
       " 'message',\n",
       " 'mobile',\n",
       " 'phone',\n",
       " 'schoolbook',\n",
       " 'text_edition',\n",
       " 'textbook',\n",
       " 'text',\n",
       " 'school_text',\n",
       " 'textual_matter',\n",
       " 'pertain',\n",
       " 'touch',\n",
       " 'touch_on',\n",
       " 'concern',\n",
       " 'bring_up',\n",
       " 'name',\n",
       " 'consult',\n",
       " 'look_up',\n",
       " 'refer',\n",
       " 'advert',\n",
       " 'cite',\n",
       " 'denote',\n",
       " 'relate',\n",
       " 'bear_on',\n",
       " 'have-to_doe_with',\n",
       " 'mention',\n",
       " 'come_to',\n",
       " 'spell',\n",
       " 'drop_a_line',\n",
       " 'save',\n",
       " 'write',\n",
       " 'indite',\n",
       " 'publish',\n",
       " 'compose',\n",
       " 'pen',\n",
       " 'Bible',\n",
       " 'give-and-take',\n",
       " 'Holy_Writ',\n",
       " 'Word',\n",
       " 'give_voice',\n",
       " 'watchword',\n",
       " 'articulate',\n",
       " 'word',\n",
       " 'intelligence',\n",
       " 'Son',\n",
       " 'phrase',\n",
       " 'countersign',\n",
       " 'Good_Book',\n",
       " 'news',\n",
       " 'tidings',\n",
       " 'Logos',\n",
       " 'discussion',\n",
       " 'word_of_honor',\n",
       " 'password',\n",
       " 'parole',\n",
       " 'formulate',\n",
       " 'Christian_Bible',\n",
       " 'Book',\n",
       " 'Word_of_God',\n",
       " 'Scripture',\n",
       " 'Holy_Scripture',\n",
       " 'pageboy',\n",
       " 'Sir_Frederick_Handley_Page',\n",
       " 'paginate',\n",
       " 'Thomas_Nelson_Page',\n",
       " 'Page',\n",
       " 'page',\n",
       " 'foliate',\n",
       " 'varlet',\n",
       " 'spell',\n",
       " 'drop_a_line',\n",
       " 'save',\n",
       " 'write',\n",
       " 'indite',\n",
       " 'publish',\n",
       " 'compose',\n",
       " 'pen',\n",
       " 'message',\n",
       " 'subject_matter',\n",
       " 'content',\n",
       " 'substance',\n",
       " 'all-encompassing',\n",
       " 'wide',\n",
       " 'unsubtle',\n",
       " 'unspecific',\n",
       " 'all-inclusive',\n",
       " 'blanket',\n",
       " 'full',\n",
       " 'tolerant',\n",
       " 'extensive',\n",
       " 'spacious',\n",
       " 'all-embracing',\n",
       " 'encompassing',\n",
       " 'broad',\n",
       " 'large-minded',\n",
       " 'liberal',\n",
       " 'panoptic',\n",
       " 'across-the-board',\n",
       " 'conception',\n",
       " 'construct',\n",
       " 'concept',\n",
       " 'object',\n",
       " 'target',\n",
       " 'aim',\n",
       " 'physical_object',\n",
       " 'objective',\n",
       " 'show',\n",
       " 'take',\n",
       " 'register',\n",
       " 'interpret',\n",
       " 'scan',\n",
       " 'say',\n",
       " 'translate',\n",
       " 'understand',\n",
       " 'learn',\n",
       " 'read',\n",
       " 'study',\n",
       " 'record',\n",
       " 'construe',\n",
       " 'represent',\n",
       " 'render',\n",
       " 'interpret',\n",
       " 'translate',\n",
       " 'understand',\n",
       " 'see',\n",
       " 'rede',\n",
       " 'read',\n",
       " 'pertain',\n",
       " 'touch',\n",
       " 'touch_on',\n",
       " 'concern',\n",
       " 'bring_up',\n",
       " 'name',\n",
       " 'consult',\n",
       " 'look_up',\n",
       " 'refer',\n",
       " 'advert',\n",
       " 'cite',\n",
       " 'denote',\n",
       " 'relate',\n",
       " 'bear_on',\n",
       " 'have-to_doe_with',\n",
       " 'mention',\n",
       " 'come_to',\n",
       " 'move',\n",
       " 'act_as',\n",
       " 'play',\n",
       " 'human_action',\n",
       " 'human_activity',\n",
       " 'represent',\n",
       " 'do',\n",
       " 'bit',\n",
       " 'pretend',\n",
       " 'act',\n",
       " 'routine',\n",
       " 'turn',\n",
       " 'number',\n",
       " 'roleplay',\n",
       " 'dissemble',\n",
       " 'behave',\n",
       " 'work',\n",
       " 'playact',\n",
       " 'deed',\n",
       " 'enactment',\n",
       " 'send',\n",
       " 'place',\n",
       " 'send_off',\n",
       " 'station',\n",
       " 'broadcast',\n",
       " 'ship',\n",
       " 'get_off',\n",
       " 'beam',\n",
       " 'charge',\n",
       " 'transmit',\n",
       " 'institutionalise',\n",
       " 'direct',\n",
       " 'send_out',\n",
       " 'mail',\n",
       " 'institutionalize',\n",
       " 'commit',\n",
       " 'air',\n",
       " 'post',\n",
       " 'transport',\n",
       " 'spell',\n",
       " 'drop_a_line',\n",
       " 'save',\n",
       " 'write',\n",
       " 'indite',\n",
       " 'publish',\n",
       " 'compose',\n",
       " 'pen',\n",
       " 'message',\n",
       " 'subject_matter',\n",
       " 'content',\n",
       " 'substance',\n",
       " 'wandering',\n",
       " 'fluid',\n",
       " 'mobile',\n",
       " 'roving',\n",
       " 'peregrine',\n",
       " 'Mobile_River',\n",
       " 'nomadic',\n",
       " 'Mobile',\n",
       " 'telephone_set',\n",
       " 'speech_sound',\n",
       " 'earphone',\n",
       " 'earpiece',\n",
       " 'headphone',\n",
       " 'call_up',\n",
       " 'sound',\n",
       " 'telephone',\n",
       " 'call',\n",
       " 'ring',\n",
       " 'phone']"
      ]
     },
     "execution_count": 39,
     "metadata": {},
     "output_type": "execute_result"
    }
   ],
   "source": [
    "priexpand_with_syn(preprocess_text(text_l))"
   ]
  },
  {
   "cell_type": "code",
   "execution_count": 46,
   "id": "29d66035-d683-4092-b7be-4f3dac617442",
   "metadata": {},
   "outputs": [
    {
     "data": {
      "text/plain": [
       "Counter({'write': 6,\n",
       "         'refer': 4,\n",
       "         'message': 4,\n",
       "         'read': 3,\n",
       "         'interpret': 3,\n",
       "         'spell': 3,\n",
       "         'drop_a_line': 3,\n",
       "         'save': 3,\n",
       "         'indite': 3,\n",
       "         'publish': 3,\n",
       "         'compose': 3,\n",
       "         'pen': 3,\n",
       "         'text': 2,\n",
       "         'word': 2,\n",
       "         'page': 2,\n",
       "         'broad': 2,\n",
       "         'concept': 2,\n",
       "         'object': 2,\n",
       "         'act': 2,\n",
       "         'send': 2,\n",
       "         'mobile': 2,\n",
       "         'phone': 2,\n",
       "         'pertain': 2,\n",
       "         'touch': 2,\n",
       "         'touch_on': 2,\n",
       "         'concern': 2,\n",
       "         'bring_up': 2,\n",
       "         'name': 2,\n",
       "         'consult': 2,\n",
       "         'look_up': 2,\n",
       "         'advert': 2,\n",
       "         'cite': 2,\n",
       "         'denote': 2,\n",
       "         'relate': 2,\n",
       "         'bear_on': 2,\n",
       "         'have-to_doe_with': 2,\n",
       "         'mention': 2,\n",
       "         'come_to': 2,\n",
       "         'subject_matter': 2,\n",
       "         'content': 2,\n",
       "         'substance': 2,\n",
       "         'translate': 2,\n",
       "         'understand': 2,\n",
       "         'represent': 2,\n",
       "         'schoolbook': 1,\n",
       "         'text_edition': 1,\n",
       "         'textbook': 1,\n",
       "         'school_text': 1,\n",
       "         'textual_matter': 1,\n",
       "         'Bible': 1,\n",
       "         'give-and-take': 1,\n",
       "         'Holy_Writ': 1,\n",
       "         'Word': 1,\n",
       "         'give_voice': 1,\n",
       "         'watchword': 1,\n",
       "         'articulate': 1,\n",
       "         'intelligence': 1,\n",
       "         'Son': 1,\n",
       "         'phrase': 1,\n",
       "         'countersign': 1,\n",
       "         'Good_Book': 1,\n",
       "         'news': 1,\n",
       "         'tidings': 1,\n",
       "         'Logos': 1,\n",
       "         'discussion': 1,\n",
       "         'word_of_honor': 1,\n",
       "         'password': 1,\n",
       "         'parole': 1,\n",
       "         'formulate': 1,\n",
       "         'Christian_Bible': 1,\n",
       "         'Book': 1,\n",
       "         'Word_of_God': 1,\n",
       "         'Scripture': 1,\n",
       "         'Holy_Scripture': 1,\n",
       "         'pageboy': 1,\n",
       "         'Sir_Frederick_Handley_Page': 1,\n",
       "         'paginate': 1,\n",
       "         'Thomas_Nelson_Page': 1,\n",
       "         'Page': 1,\n",
       "         'foliate': 1,\n",
       "         'varlet': 1,\n",
       "         'all-encompassing': 1,\n",
       "         'wide': 1,\n",
       "         'unsubtle': 1,\n",
       "         'unspecific': 1,\n",
       "         'all-inclusive': 1,\n",
       "         'blanket': 1,\n",
       "         'full': 1,\n",
       "         'tolerant': 1,\n",
       "         'extensive': 1,\n",
       "         'spacious': 1,\n",
       "         'all-embracing': 1,\n",
       "         'encompassing': 1,\n",
       "         'large-minded': 1,\n",
       "         'liberal': 1,\n",
       "         'panoptic': 1,\n",
       "         'across-the-board': 1,\n",
       "         'conception': 1,\n",
       "         'construct': 1,\n",
       "         'target': 1,\n",
       "         'aim': 1,\n",
       "         'physical_object': 1,\n",
       "         'objective': 1,\n",
       "         'show': 1,\n",
       "         'take': 1,\n",
       "         'register': 1,\n",
       "         'scan': 1,\n",
       "         'say': 1,\n",
       "         'learn': 1,\n",
       "         'study': 1,\n",
       "         'record': 1,\n",
       "         'construe': 1,\n",
       "         'render': 1,\n",
       "         'see': 1,\n",
       "         'rede': 1,\n",
       "         'move': 1,\n",
       "         'act_as': 1,\n",
       "         'play': 1,\n",
       "         'human_action': 1,\n",
       "         'human_activity': 1,\n",
       "         'do': 1,\n",
       "         'bit': 1,\n",
       "         'pretend': 1,\n",
       "         'routine': 1,\n",
       "         'turn': 1,\n",
       "         'number': 1,\n",
       "         'roleplay': 1,\n",
       "         'dissemble': 1,\n",
       "         'behave': 1,\n",
       "         'work': 1,\n",
       "         'playact': 1,\n",
       "         'deed': 1,\n",
       "         'enactment': 1,\n",
       "         'place': 1,\n",
       "         'send_off': 1,\n",
       "         'station': 1,\n",
       "         'broadcast': 1,\n",
       "         'ship': 1,\n",
       "         'get_off': 1,\n",
       "         'beam': 1,\n",
       "         'charge': 1,\n",
       "         'transmit': 1,\n",
       "         'institutionalise': 1,\n",
       "         'direct': 1,\n",
       "         'send_out': 1,\n",
       "         'mail': 1,\n",
       "         'institutionalize': 1,\n",
       "         'commit': 1,\n",
       "         'air': 1,\n",
       "         'post': 1,\n",
       "         'transport': 1,\n",
       "         'wandering': 1,\n",
       "         'fluid': 1,\n",
       "         'roving': 1,\n",
       "         'peregrine': 1,\n",
       "         'Mobile_River': 1,\n",
       "         'nomadic': 1,\n",
       "         'Mobile': 1,\n",
       "         'telephone_set': 1,\n",
       "         'speech_sound': 1,\n",
       "         'earphone': 1,\n",
       "         'earpiece': 1,\n",
       "         'headphone': 1,\n",
       "         'call_up': 1,\n",
       "         'sound': 1,\n",
       "         'telephone': 1,\n",
       "         'call': 1,\n",
       "         'ring': 1})"
      ]
     },
     "execution_count": 46,
     "metadata": {},
     "output_type": "execute_result"
    }
   ],
   "source": [
    "Counter(expand_with_syn(preprocess_text(text_l)))"
   ]
  },
  {
   "cell_type": "code",
   "execution_count": 50,
   "id": "d372f67a-69ac-4383-92f1-600d0ce98d04",
   "metadata": {},
   "outputs": [],
   "source": [
    "a = set(Counter(expand_with_syn(preprocess_text(text_l))))"
   ]
  },
  {
   "cell_type": "code",
   "execution_count": 45,
   "id": "cc1076d5-8304-4714-97f8-fa2ce004a45a",
   "metadata": {},
   "outputs": [
    {
     "data": {
      "text/plain": [
       "168"
      ]
     },
     "execution_count": 45,
     "metadata": {},
     "output_type": "execute_result"
    }
   ],
   "source": [
    "len(set(Counter(expand_with_syn(preprocess_text(text_l))).keys()))"
   ]
  },
  {
   "cell_type": "code",
   "execution_count": 53,
   "id": "60b94701-b31f-4e49-ac28-991bc6d7e1c8",
   "metadata": {},
   "outputs": [],
   "source": [
    "for w in a:\n",
    "    #print(Counter(expand_with_syn(preprocess_text(text_l)))[w])\n",
    "    pass"
   ]
  },
  {
   "cell_type": "code",
   "execution_count": 54,
   "id": "b5243c9e-37df-451c-ad35-f3cb52cd2c50",
   "metadata": {},
   "outputs": [],
   "source": [
    "def calculate_enhanced_similarity(text1, text2):\n",
    "    # Preprocess and tokenize texts\n",
    "    words1 = preprocess_text(text1)\n",
    "    words2 = preprocess_text(text2)\n",
    "\n",
    "    # Expand with synonyms\n",
    "    words1_expanded = expand_with_synonyms(words1)\n",
    "    words2_expanded = expand_with_synonyms(words2)\n",
    "\n",
    "    # Count word frequencies\n",
    "    freq1 = Counter(words1_expanded)\n",
    "    freq2 = Counter(words2_expanded)\n",
    "\n",
    "    # Create a set of all unique words\n",
    "    unique_words = set(freq1.keys()).union(set(freq2.keys()))\n",
    "\n",
    "    # Create frequency vectors\n",
    "    vector1 = [freq1[word] for word in unique_words]\n",
    "    vector2 = [freq2[word] for word in unique_words]\n",
    "\n",
    "    # Convert lists to numpy arrays\n",
    "    vector1 = np.array(vector1)\n",
    "    vector2 = np.array(vector2)\n",
    "\n",
    "    # Calculate cosine similarity\n",
    "    cosine_similarity = np.dot(vector1, vector2) / (np.linalg.norm(vector1) * np.linalg.norm(vector2))\n",
    "\n",
    "    return cosine_similarity"
   ]
  },
  {
   "cell_type": "code",
   "execution_count": null,
   "id": "f95cef0c-03e7-4c42-91d1-71c0fd8b5b2a",
   "metadata": {},
   "outputs": [],
   "source": []
  },
  {
   "cell_type": "code",
   "execution_count": null,
   "id": "85459c08-c50b-4b9a-82f1-0812fbbce30c",
   "metadata": {},
   "outputs": [],
   "source": []
  },
  {
   "cell_type": "code",
   "execution_count": null,
   "id": "2b3724cc-836f-49f8-bceb-6060b5188125",
   "metadata": {},
   "outputs": [],
   "source": []
  },
  {
   "cell_type": "code",
   "execution_count": null,
   "id": "ce667ffe-5b05-41e6-8d6a-0320d8058aab",
   "metadata": {},
   "outputs": [],
   "source": []
  },
  {
   "cell_type": "code",
   "execution_count": null,
   "id": "794c80b0-c038-41c6-9e59-f3a5caef12d4",
   "metadata": {},
   "outputs": [],
   "source": []
  },
  {
   "cell_type": "code",
   "execution_count": null,
   "id": "2545855c-3a7c-4574-94f0-2f2a9270356f",
   "metadata": {},
   "outputs": [],
   "source": []
  },
  {
   "cell_type": "code",
   "execution_count": null,
   "id": "beff3e39-e39c-4733-a56e-6e612d563fa7",
   "metadata": {},
   "outputs": [],
   "source": []
  },
  {
   "cell_type": "code",
   "execution_count": null,
   "id": "cdcbf24b-e789-4bb9-9ffa-cf9223dc8863",
   "metadata": {},
   "outputs": [],
   "source": []
  },
  {
   "cell_type": "code",
   "execution_count": null,
   "id": "f8b3f287-ed2c-4ec5-9a22-184ac2da727f",
   "metadata": {},
   "outputs": [],
   "source": []
  }
 ],
 "metadata": {
  "kernelspec": {
   "display_name": "Python 3 (ipykernel)",
   "language": "python",
   "name": "python3"
  },
  "language_info": {
   "codemirror_mode": {
    "name": "ipython",
    "version": 3
   },
   "file_extension": ".py",
   "mimetype": "text/x-python",
   "name": "python",
   "nbconvert_exporter": "python",
   "pygments_lexer": "ipython3",
   "version": "3.12.5"
  }
 },
 "nbformat": 4,
 "nbformat_minor": 5
}
