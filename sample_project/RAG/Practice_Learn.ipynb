{
 "cells": [
  {
   "cell_type": "code",
   "execution_count": 9,
   "id": "1e728cab-a5b9-4271-9ced-985c036d5eec",
   "metadata": {},
   "outputs": [
    {
     "name": "stderr",
     "output_type": "stream",
     "text": [
      "[nltk_data] Downloading package wordnet to\n",
      "[nltk_data]     /Users/hivagheisari/nltk_data...\n",
      "[nltk_data]   Package wordnet is already up-to-date!\n"
     ]
    }
   ],
   "source": [
    "import spacy \n",
    "import nltk\n",
    "nltk.download('wordnet')\n",
    "from nltk.corpus import wordnet as wn\n",
    "from collections import Counter\n",
    "import numpy as np\n",
    "\n",
    "\n",
    "# Load spaCy model\n",
    "nlp= spacy.load('en_core_web_sm')"
   ]
  },
  {
   "cell_type": "markdown",
   "id": "514bda4b-92d6-42b1-8c6d-b7dc4b7cfc86",
   "metadata": {},
   "source": [
    "## Synonyms:"
   ]
  },
  {
   "cell_type": "code",
   "execution_count": 10,
   "id": "6b0fc01d-de97-4164-8ca1-3780948b7464",
   "metadata": {},
   "outputs": [],
   "source": [
    "def get_synonyms(word):\n",
    "    synonyms=set()\n",
    "    for syn in wn.synsets(word):\n",
    "        for lemma in syn.lemmas():\n",
    "            synonyms.add(lemma.name())\n",
    "    return synonyms"
   ]
  },
  {
   "cell_type": "code",
   "execution_count": 11,
   "id": "141c7662-c17e-4c6b-b092-cf28d69aed8e",
   "metadata": {},
   "outputs": [
    {
     "data": {
      "text/plain": [
       "{'auto',\n",
       " 'automobile',\n",
       " 'cable_car',\n",
       " 'car',\n",
       " 'elevator_car',\n",
       " 'gondola',\n",
       " 'machine',\n",
       " 'motorcar',\n",
       " 'railcar',\n",
       " 'railroad_car',\n",
       " 'railway_car'}"
      ]
     },
     "execution_count": 11,
     "metadata": {},
     "output_type": "execute_result"
    }
   ],
   "source": [
    "get_synonyms('Car')"
   ]
  },
  {
   "cell_type": "code",
   "execution_count": 12,
   "id": "f7b05379-3314-4da2-a23c-8432318a5b6b",
   "metadata": {},
   "outputs": [
    {
     "name": "stdout",
     "output_type": "stream",
     "text": [
      " wn.synsets('Car') is [Synset('car.n.01'), Synset('car.n.02'), Synset('car.n.03'), Synset('car.n.04'), Synset('cable_car.n.01')]\n"
     ]
    }
   ],
   "source": [
    "print(f\" wn.synsets('Car') is {wn.synsets('Car')}\")"
   ]
  },
  {
   "cell_type": "code",
   "execution_count": 13,
   "id": "4659b8c9-3d56-4a5f-8f36-15829c8170ec",
   "metadata": {},
   "outputs": [
    {
     "name": "stdout",
     "output_type": "stream",
     "text": [
      "[Lemma('car.n.01.car'), Lemma('car.n.01.auto'), Lemma('car.n.01.automobile'), Lemma('car.n.01.machine'), Lemma('car.n.01.motorcar')]\n",
      "[Lemma('car.n.02.car'), Lemma('car.n.02.railcar'), Lemma('car.n.02.railway_car'), Lemma('car.n.02.railroad_car')]\n",
      "[Lemma('car.n.03.car'), Lemma('car.n.03.gondola')]\n",
      "[Lemma('car.n.04.car'), Lemma('car.n.04.elevator_car')]\n",
      "[Lemma('cable_car.n.01.cable_car'), Lemma('cable_car.n.01.car')]\n"
     ]
    }
   ],
   "source": [
    "for syn in wn.synsets('Car'):\n",
    "    print(syn.lemmas())"
   ]
  },
  {
   "cell_type": "code",
   "execution_count": 14,
   "id": "29292b6b-050d-4d66-9ec5-c4e2c016f911",
   "metadata": {},
   "outputs": [
    {
     "name": "stdout",
     "output_type": "stream",
     "text": [
      "car\n",
      "auto\n",
      "automobile\n",
      "machine\n",
      "motorcar\n",
      "car\n",
      "railcar\n",
      "railway_car\n",
      "railroad_car\n",
      "car\n",
      "gondola\n",
      "car\n",
      "elevator_car\n",
      "cable_car\n",
      "car\n"
     ]
    }
   ],
   "source": [
    "for syn in wn.synsets('Car'):\n",
    "    #print(syn.lemmas())\n",
    "    for lemma in syn.lemmas():\n",
    "        print(lemma.name())"
   ]
  },
  {
   "cell_type": "code",
   "execution_count": 15,
   "id": "f53a628d-027d-46bd-8775-cf73047f7302",
   "metadata": {},
   "outputs": [],
   "source": [
    "def preprocess_text(text):\n",
    "    doc = nlp(text.lower())\n",
    "    lemmatized_words = []\n",
    "    for token in doc:\n",
    "        if token.is_stop or token.is_punct:\n",
    "            continue\n",
    "        lemmatized_words.append(token.lemma_)\n",
    "    return lemmatized_words"
   ]
  },
  {
   "cell_type": "code",
   "execution_count": 16,
   "id": "2f8c2ce5-7146-42dd-95d4-2d6698e12a75",
   "metadata": {},
   "outputs": [],
   "source": [
    "text= '\"Text\" can refer to the written words on a page, a written message, or even a broader concept of any object that can be \"read\" and interpreted. It can also refer to the act of sending a written message on a mobile phone. '"
   ]
  },
  {
   "cell_type": "code",
   "execution_count": 17,
   "id": "e712b773-774b-47d5-a00b-e68fcde47bef",
   "metadata": {},
   "outputs": [
    {
     "data": {
      "text/plain": [
       "'\"text\" can refer to the written words on a page, a written message, or even a broader concept of any object that can be \"read\" and interpreted. it can also refer to the act of sending a written message on a mobile phone. '"
      ]
     },
     "execution_count": 17,
     "metadata": {},
     "output_type": "execute_result"
    }
   ],
   "source": [
    "text_l=text.lower()\n",
    "text_l"
   ]
  },
  {
   "cell_type": "code",
   "execution_count": 18,
   "id": "9dbccbfc-43bf-48ef-ae0f-f6f657531805",
   "metadata": {},
   "outputs": [],
   "source": [
    "doc= nlp(text_l)"
   ]
  },
  {
   "cell_type": "code",
   "execution_count": 28,
   "id": "edac5cfb-5c5f-4f1a-b71e-96fa5fe50359",
   "metadata": {},
   "outputs": [],
   "source": [
    "for token in doc:\n",
    "    #print((token.lemma_))\n",
    "    pass"
   ]
  },
  {
   "cell_type": "code",
   "execution_count": 24,
   "id": "6b81dede-8e51-4eee-a242-c698146969a3",
   "metadata": {},
   "outputs": [
    {
     "data": {
      "text/plain": [
       "['text',\n",
       " 'refer',\n",
       " 'write',\n",
       " 'word',\n",
       " 'page',\n",
       " 'write',\n",
       " 'message',\n",
       " 'broad',\n",
       " 'concept',\n",
       " 'object',\n",
       " 'read',\n",
       " 'interpret',\n",
       " 'refer',\n",
       " 'act',\n",
       " 'send',\n",
       " 'write',\n",
       " 'message',\n",
       " 'mobile',\n",
       " 'phone']"
      ]
     },
     "execution_count": 24,
     "metadata": {},
     "output_type": "execute_result"
    }
   ],
   "source": [
    "preprocess_text(text_l)"
   ]
  },
  {
   "cell_type": "code",
   "execution_count": 35,
   "id": "eae2cbaf-e5b0-49fa-a3f4-584bfe828c02",
   "metadata": {},
   "outputs": [
    {
     "data": {
      "text/plain": [
       "list"
      ]
     },
     "execution_count": 35,
     "metadata": {},
     "output_type": "execute_result"
    }
   ],
   "source": [
    "type(preprocess_text(text_l))"
   ]
  },
  {
   "cell_type": "code",
   "execution_count": 38,
   "id": "cd0e5754-af63-48b5-aa07-ffd3b319fd7a",
   "metadata": {},
   "outputs": [],
   "source": [
    "def expand_with_syn(words):\n",
    "    expand_w= words.copy()\n",
    "    for w in words:\n",
    "        expand_w.extend(get_synonyms(w))\n",
    "    return(expand_w)"
   ]
  },
  {
   "cell_type": "code",
   "execution_count": 55,
   "id": "da3b38cb-59e9-41a0-9c72-7de8787d2b7e",
   "metadata": {},
   "outputs": [
    {
     "name": "stdout",
     "output_type": "stream",
     "text": [
      "['text', 'refer', 'write', 'word', 'page', 'write', 'message', 'broad', 'concept', 'object', 'read', 'interpret', 'refer', 'act', 'send', 'write', 'message', 'mobile', 'phone', 'schoolbook', 'text_edition', 'textbook', 'text', 'school_text', 'textual_matter', 'pertain', 'touch', 'touch_on', 'concern', 'bring_up', 'name', 'consult', 'look_up', 'refer', 'advert', 'cite', 'denote', 'relate', 'bear_on', 'have-to_doe_with', 'mention', 'come_to', 'spell', 'drop_a_line', 'save', 'write', 'indite', 'publish', 'compose', 'pen', 'Bible', 'give-and-take', 'Holy_Writ', 'Word', 'give_voice', 'watchword', 'articulate', 'word', 'intelligence', 'Son', 'phrase', 'countersign', 'Good_Book', 'news', 'tidings', 'Logos', 'discussion', 'word_of_honor', 'password', 'parole', 'formulate', 'Christian_Bible', 'Book', 'Word_of_God', 'Scripture', 'Holy_Scripture', 'pageboy', 'Sir_Frederick_Handley_Page', 'paginate', 'Thomas_Nelson_Page', 'Page', 'page', 'foliate', 'varlet', 'spell', 'drop_a_line', 'save', 'write', 'indite', 'publish', 'compose', 'pen', 'message', 'subject_matter', 'content', 'substance', 'all-encompassing', 'wide', 'unsubtle', 'unspecific', 'all-inclusive', 'blanket', 'full', 'tolerant', 'extensive', 'spacious', 'all-embracing', 'encompassing', 'broad', 'large-minded', 'liberal', 'panoptic', 'across-the-board', 'conception', 'construct', 'concept', 'object', 'target', 'aim', 'physical_object', 'objective', 'show', 'take', 'register', 'interpret', 'scan', 'say', 'translate', 'understand', 'learn', 'read', 'study', 'record', 'construe', 'represent', 'render', 'interpret', 'translate', 'understand', 'see', 'rede', 'read', 'pertain', 'touch', 'touch_on', 'concern', 'bring_up', 'name', 'consult', 'look_up', 'refer', 'advert', 'cite', 'denote', 'relate', 'bear_on', 'have-to_doe_with', 'mention', 'come_to', 'move', 'act_as', 'play', 'human_action', 'human_activity', 'represent', 'do', 'bit', 'pretend', 'act', 'routine', 'turn', 'number', 'roleplay', 'dissemble', 'behave', 'work', 'playact', 'deed', 'enactment', 'send', 'place', 'send_off', 'station', 'broadcast', 'ship', 'get_off', 'beam', 'charge', 'transmit', 'institutionalise', 'direct', 'send_out', 'mail', 'institutionalize', 'commit', 'air', 'post', 'transport', 'spell', 'drop_a_line', 'save', 'write', 'indite', 'publish', 'compose', 'pen', 'message', 'subject_matter', 'content', 'substance', 'wandering', 'fluid', 'mobile', 'roving', 'peregrine', 'Mobile_River', 'nomadic', 'Mobile', 'telephone_set', 'speech_sound', 'earphone', 'earpiece', 'headphone', 'call_up', 'sound', 'telephone', 'call', 'ring', 'phone']\n"
     ]
    }
   ],
   "source": [
    "print(expand_with_syn(preprocess_text(text_l)))"
   ]
  },
  {
   "cell_type": "code",
   "execution_count": 56,
   "id": "29d66035-d683-4092-b7be-4f3dac617442",
   "metadata": {},
   "outputs": [
    {
     "name": "stdout",
     "output_type": "stream",
     "text": [
      "Counter({'write': 6, 'refer': 4, 'message': 4, 'read': 3, 'interpret': 3, 'spell': 3, 'drop_a_line': 3, 'save': 3, 'indite': 3, 'publish': 3, 'compose': 3, 'pen': 3, 'text': 2, 'word': 2, 'page': 2, 'broad': 2, 'concept': 2, 'object': 2, 'act': 2, 'send': 2, 'mobile': 2, 'phone': 2, 'pertain': 2, 'touch': 2, 'touch_on': 2, 'concern': 2, 'bring_up': 2, 'name': 2, 'consult': 2, 'look_up': 2, 'advert': 2, 'cite': 2, 'denote': 2, 'relate': 2, 'bear_on': 2, 'have-to_doe_with': 2, 'mention': 2, 'come_to': 2, 'subject_matter': 2, 'content': 2, 'substance': 2, 'translate': 2, 'understand': 2, 'represent': 2, 'schoolbook': 1, 'text_edition': 1, 'textbook': 1, 'school_text': 1, 'textual_matter': 1, 'Bible': 1, 'give-and-take': 1, 'Holy_Writ': 1, 'Word': 1, 'give_voice': 1, 'watchword': 1, 'articulate': 1, 'intelligence': 1, 'Son': 1, 'phrase': 1, 'countersign': 1, 'Good_Book': 1, 'news': 1, 'tidings': 1, 'Logos': 1, 'discussion': 1, 'word_of_honor': 1, 'password': 1, 'parole': 1, 'formulate': 1, 'Christian_Bible': 1, 'Book': 1, 'Word_of_God': 1, 'Scripture': 1, 'Holy_Scripture': 1, 'pageboy': 1, 'Sir_Frederick_Handley_Page': 1, 'paginate': 1, 'Thomas_Nelson_Page': 1, 'Page': 1, 'foliate': 1, 'varlet': 1, 'all-encompassing': 1, 'wide': 1, 'unsubtle': 1, 'unspecific': 1, 'all-inclusive': 1, 'blanket': 1, 'full': 1, 'tolerant': 1, 'extensive': 1, 'spacious': 1, 'all-embracing': 1, 'encompassing': 1, 'large-minded': 1, 'liberal': 1, 'panoptic': 1, 'across-the-board': 1, 'conception': 1, 'construct': 1, 'target': 1, 'aim': 1, 'physical_object': 1, 'objective': 1, 'show': 1, 'take': 1, 'register': 1, 'scan': 1, 'say': 1, 'learn': 1, 'study': 1, 'record': 1, 'construe': 1, 'render': 1, 'see': 1, 'rede': 1, 'move': 1, 'act_as': 1, 'play': 1, 'human_action': 1, 'human_activity': 1, 'do': 1, 'bit': 1, 'pretend': 1, 'routine': 1, 'turn': 1, 'number': 1, 'roleplay': 1, 'dissemble': 1, 'behave': 1, 'work': 1, 'playact': 1, 'deed': 1, 'enactment': 1, 'place': 1, 'send_off': 1, 'station': 1, 'broadcast': 1, 'ship': 1, 'get_off': 1, 'beam': 1, 'charge': 1, 'transmit': 1, 'institutionalise': 1, 'direct': 1, 'send_out': 1, 'mail': 1, 'institutionalize': 1, 'commit': 1, 'air': 1, 'post': 1, 'transport': 1, 'wandering': 1, 'fluid': 1, 'roving': 1, 'peregrine': 1, 'Mobile_River': 1, 'nomadic': 1, 'Mobile': 1, 'telephone_set': 1, 'speech_sound': 1, 'earphone': 1, 'earpiece': 1, 'headphone': 1, 'call_up': 1, 'sound': 1, 'telephone': 1, 'call': 1, 'ring': 1})\n"
     ]
    }
   ],
   "source": [
    "print(Counter(expand_with_syn(preprocess_text(text_l))))"
   ]
  },
  {
   "cell_type": "code",
   "execution_count": 50,
   "id": "d372f67a-69ac-4383-92f1-600d0ce98d04",
   "metadata": {},
   "outputs": [],
   "source": [
    "a = set(Counter(expand_with_syn(preprocess_text(text_l))))"
   ]
  },
  {
   "cell_type": "code",
   "execution_count": 45,
   "id": "cc1076d5-8304-4714-97f8-fa2ce004a45a",
   "metadata": {},
   "outputs": [
    {
     "data": {
      "text/plain": [
       "168"
      ]
     },
     "execution_count": 45,
     "metadata": {},
     "output_type": "execute_result"
    }
   ],
   "source": [
    "len(set(Counter(expand_with_syn(preprocess_text(text_l))).keys()))"
   ]
  },
  {
   "cell_type": "code",
   "execution_count": 53,
   "id": "60b94701-b31f-4e49-ac28-991bc6d7e1c8",
   "metadata": {},
   "outputs": [],
   "source": [
    "for w in a:\n",
    "    #print(Counter(expand_with_syn(preprocess_text(text_l)))[w])\n",
    "    pass"
   ]
  },
  {
   "cell_type": "code",
   "execution_count": 54,
   "id": "b5243c9e-37df-451c-ad35-f3cb52cd2c50",
   "metadata": {},
   "outputs": [],
   "source": [
    "def calculate_enhanced_similarity(text1, text2):\n",
    "    # Preprocess and tokenize texts\n",
    "    words1 = preprocess_text(text1)\n",
    "    words2 = preprocess_text(text2)\n",
    "\n",
    "    # Expand with synonyms\n",
    "    words1_expanded = expand_with_synonyms(words1)\n",
    "    words2_expanded = expand_with_synonyms(words2)\n",
    "\n",
    "    # Count word frequencies\n",
    "    freq1 = Counter(words1_expanded)\n",
    "    freq2 = Counter(words2_expanded)\n",
    "\n",
    "    # Create a set of all unique words\n",
    "    unique_words = set(freq1.keys()).union(set(freq2.keys()))\n",
    "\n",
    "    # Create frequency vectors\n",
    "    vector1 = [freq1[word] for word in unique_words]\n",
    "    vector2 = [freq2[word] for word in unique_words]\n",
    "\n",
    "    # Convert lists to numpy arrays\n",
    "    vector1 = np.array(vector1)\n",
    "    vector2 = np.array(vector2)\n",
    "\n",
    "    # Calculate cosine similarity\n",
    "    cosine_similarity = np.dot(vector1, vector2) / (np.linalg.norm(vector1) * np.linalg.norm(vector2))\n",
    "\n",
    "    return cosine_similarity"
   ]
  },
  {
   "cell_type": "code",
   "execution_count": 58,
   "id": "f95cef0c-03e7-4c42-91d1-71c0fd8b5b2a",
   "metadata": {},
   "outputs": [],
   "source": [
    "def find_best_keymatch(query,records):\n",
    "    best_score= 0\n",
    "    best_record= None\n",
    "    query_kw= set(query.lower().split())\n",
    "    for record in records:\n",
    "        record_kw= set(record.lower().split())\n",
    "        common_kw= query_kw.intersection(record_kw)\n",
    "        current_score= len(common_kw)\n",
    "        if current_score > best_score:\n",
    "            best_score= current_score\n",
    "            best_record= record\n",
    "    return best_record, best_score"
   ]
  },
  {
   "cell_type": "code",
   "execution_count": 59,
   "id": "85459c08-c50b-4b9a-82f1-0812fbbce30c",
   "metadata": {},
   "outputs": [
    {
     "data": {
      "text/plain": [
       "'A RAG vector store is a database or dataset that contains vectorized data points.'"
      ]
     },
     "execution_count": 59,
     "metadata": {},
     "output_type": "execute_result"
    }
   ],
   "source": [
    "w= \"A RAG vector store is a database or dataset that contains vectorized data points.\""
   ]
  },
  {
   "cell_type": "markdown",
   "id": "4d490188-05d5-44a8-a2cf-6e185705493e",
   "metadata": {},
   "source": [
    "#### ADV RAG:"
   ]
  },
  {
   "cell_type": "code",
   "execution_count": null,
   "id": "ce667ffe-5b05-41e6-8d6a-0320d8058aab",
   "metadata": {},
   "outputs": [],
   "source": []
  },
  {
   "cell_type": "code",
   "execution_count": null,
   "id": "794c80b0-c038-41c6-9e59-f3a5caef12d4",
   "metadata": {},
   "outputs": [],
   "source": []
  },
  {
   "cell_type": "code",
   "execution_count": null,
   "id": "2545855c-3a7c-4574-94f0-2f2a9270356f",
   "metadata": {},
   "outputs": [],
   "source": []
  },
  {
   "cell_type": "code",
   "execution_count": null,
   "id": "beff3e39-e39c-4733-a56e-6e612d563fa7",
   "metadata": {},
   "outputs": [],
   "source": []
  },
  {
   "cell_type": "code",
   "execution_count": null,
   "id": "cdcbf24b-e789-4bb9-9ffa-cf9223dc8863",
   "metadata": {},
   "outputs": [],
   "source": []
  },
  {
   "cell_type": "code",
   "execution_count": null,
   "id": "f8b3f287-ed2c-4ec5-9a22-184ac2da727f",
   "metadata": {},
   "outputs": [],
   "source": []
  }
 ],
 "metadata": {
  "kernelspec": {
   "display_name": "Python 3 (ipykernel)",
   "language": "python",
   "name": "python3"
  },
  "language_info": {
   "codemirror_mode": {
    "name": "ipython",
    "version": 3
   },
   "file_extension": ".py",
   "mimetype": "text/x-python",
   "name": "python",
   "nbconvert_exporter": "python",
   "pygments_lexer": "ipython3",
   "version": "3.12.5"
  }
 },
 "nbformat": 4,
 "nbformat_minor": 5
}
